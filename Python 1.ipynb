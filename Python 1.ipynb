{
 "cells": [
  {
   "cell_type": "markdown",
   "metadata": {},
   "source": [
    "# python  1"
   ]
  },
  {
   "cell_type": "markdown",
   "metadata": {},
   "source": [
    "1 Python是解释性的，这表示Python代码是被解释器翻译和执行的，每次一句。\n",
    "\n",
    "2.Python3编写的程序不能在Python2中执行。Python2代码可能在Python3中不执行，但最终会被Python3所代替。"
   ]
  },
  {
   "cell_type": "code",
   "execution_count": 3,
   "metadata": {},
   "outputs": [
    {
     "name": "stdout",
     "output_type": "stream",
     "text": [
      "welcome to Python\n",
      "Python is fun\n"
     ]
    }
   ],
   "source": [
    "print('welcome to Python')\n",
    "print(\"Python is fun\")"
   ]
  },
  {
   "cell_type": "markdown",
   "metadata": {},
   "source": [
    "3.要退出Python，按Ctrl+Z组合键然后再按回车\n",
    "\n",
    "4.Python程序是区分大小写的\n",
    "\n",
    "5.格式问题\n",
    "\n",
    "6.Python源文件的扩展名是.py\n",
    "\n",
    "7.注释   \n",
    "       ### 内容\n",
    "     \"\"\"  内容  \"\"\""
   ]
  },
  {
   "cell_type": "code",
   "execution_count": 4,
   "metadata": {},
   "outputs": [
    {
     "name": "stdout",
     "output_type": "stream",
     "text": [
      "0.39759036144578314\n"
     ]
    }
   ],
   "source": [
    "print((10.5 + 2 * 3) / (45 - 3.5))"
   ]
  },
  {
   "cell_type": "markdown",
   "metadata": {},
   "source": [
    "8.三种程序错误是语法错误，运行错误，逻辑错误。语法和运行时错误会导致程序意外中止。\n",
    "当程序没有完成它预期的任务时出现逻辑错误"
   ]
  },
  {
   "cell_type": "markdown",
   "metadata": {},
   "source": [
    "# 习题"
   ]
  },
  {
   "cell_type": "code",
   "execution_count": 5,
   "metadata": {},
   "outputs": [
    {
     "name": "stdout",
     "output_type": "stream",
     "text": [
      "Welcome to Python\n",
      "Welcome to Python\n",
      "Welcome to Python\n",
      "Welcome to Python\n",
      "Welcome to Python\n"
     ]
    }
   ],
   "source": [
    "for i in range(1,6):\n",
    "    print('Welcome to Python')"
   ]
  },
  {
   "cell_type": "code",
   "execution_count": 5,
   "metadata": {},
   "outputs": [
    {
     "name": "stdout",
     "output_type": "stream",
     "text": [
      "2\n",
      "a,a^2,a^3\n",
      "2 4 8\n"
     ]
    }
   ],
   "source": [
    "##（打印表格）a a^2 a^3\n",
    "a = int(input())\n",
    "print('a,a^2,a^3')\n",
    "print(a,  a**2,  a**3)"
   ]
  },
  {
   "cell_type": "code",
   "execution_count": 7,
   "metadata": {},
   "outputs": [
    {
     "name": "stdout",
     "output_type": "stream",
     "text": [
      "55\n"
     ]
    }
   ],
   "source": [
    "#计算程序1+2+3+4+5+6+7+8+9的和\n",
    "count = 0\n",
    "for i in range(11):\n",
    "    count = count + i\n",
    "print(count)"
   ]
  },
  {
   "cell_type": "code",
   "execution_count": null,
   "metadata": {},
   "outputs": [],
   "source": []
  }
 ],
 "metadata": {
  "kernelspec": {
   "display_name": "Python 3",
   "language": "python",
   "name": "python3"
  },
  "language_info": {
   "codemirror_mode": {
    "name": "ipython",
    "version": 3
   },
   "file_extension": ".py",
   "mimetype": "text/x-python",
   "name": "python",
   "nbconvert_exporter": "python",
   "pygments_lexer": "ipython3",
   "version": "3.7.3"
  }
 },
 "nbformat": 4,
 "nbformat_minor": 2
}

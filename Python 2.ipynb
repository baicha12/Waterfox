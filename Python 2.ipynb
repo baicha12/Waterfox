{
 "cells": [
  {
   "cell_type": "markdown",
   "metadata": {},
   "source": [
    "# 第二章  基本程序设计"
   ]
  },
  {
   "cell_type": "code",
   "execution_count": 1,
   "metadata": {},
   "outputs": [
    {
     "name": "stdout",
     "output_type": "stream",
     "text": [
      "The area for the circle of radius 20 is 1256.636\n"
     ]
    }
   ],
   "source": [
    "radius = 20\n",
    "area = radius * radius * 3.14159\n",
    "print(\"The area for the circle of radius\",radius,\"is\",area)"
   ]
  },
  {
   "cell_type": "code",
   "execution_count": 2,
   "metadata": {},
   "outputs": [
    {
     "name": "stdout",
     "output_type": "stream",
     "text": [
      "Enter a value:5\n"
     ]
    }
   ],
   "source": [
    "##   Python 会通过赋值给变量来自动判定数据类型\n",
    "#从控制台读取输入\n",
    "variable = input(\"Enter a value:\")"
   ]
  },
  {
   "cell_type": "code",
   "execution_count": 8,
   "metadata": {},
   "outputs": [
    {
     "name": "stdout",
     "output_type": "stream",
     "text": [
      "Enter a value for radius:2.5\n",
      "The area for the circle of radius: 2.5 is 19.6349375\n"
     ]
    }
   ],
   "source": [
    "##   eval() 函数用来执行一个字符串表达式，并返回表达式的值。\n",
    "radius = eval(input(\"Enter a value for radius:\"))\n",
    "area = radius * radius * 3.14159\n",
    "print(\"The area for the circle of radius:\",radius,\"is\",area)"
   ]
  },
  {
   "cell_type": "code",
   "execution_count": 13,
   "metadata": {},
   "outputs": [
    {
     "name": "stdout",
     "output_type": "stream",
     "text": [
      "Enter the first number:1\n",
      "Enter the second number:2\n",
      "Enter the third number:3\n",
      "The average of 1 2 3 is 2.0\n"
     ]
    }
   ],
   "source": [
    "number1 = eval(input(\"Enter the first number:\"))\n",
    "number2 = eval(input(\"Enter the second number:\"))\n",
    "number3 = eval(input(\"Enter the third number:\"))\n",
    "average= ( number1 + number2 + number3 ) / 3\n",
    "print(\"The average of\",number1,number2,number3,\"is\",average)\n"
   ]
  },
  {
   "cell_type": "code",
   "execution_count": 14,
   "metadata": {},
   "outputs": [
    {
     "name": "stdout",
     "output_type": "stream",
     "text": [
      "Enter a radius:5a\n"
     ]
    },
    {
     "ename": "SyntaxError",
     "evalue": "unexpected EOF while parsing (<string>, line 1)",
     "output_type": "error",
     "traceback": [
      "Traceback \u001b[1;36m(most recent call last)\u001b[0m:\n",
      "  File \u001b[0;32m\"E:\\anaconda\\lib\\site-packages\\IPython\\core\\interactiveshell.py\"\u001b[0m, line \u001b[0;32m3325\u001b[0m, in \u001b[0;35mrun_code\u001b[0m\n    exec(code_obj, self.user_global_ns, self.user_ns)\n",
      "\u001b[1;36m  File \u001b[1;32m\"<ipython-input-14-e303e30f9905>\"\u001b[1;36m, line \u001b[1;32m1\u001b[1;36m, in \u001b[1;35m<module>\u001b[1;36m\u001b[0m\n\u001b[1;33m    radius = eval(input(\"Enter a radius:\"))\u001b[0m\n",
      "\u001b[1;36m  File \u001b[1;32m\"<string>\"\u001b[1;36m, line \u001b[1;32m1\u001b[0m\n\u001b[1;33m    5a\u001b[0m\n\u001b[1;37m     ^\u001b[0m\n\u001b[1;31mSyntaxError\u001b[0m\u001b[1;31m:\u001b[0m unexpected EOF while parsing\n"
     ]
    }
   ],
   "source": [
    "radius = eval(input(\"Enter a radius:\"))"
   ]
  },
  {
   "cell_type": "markdown",
   "metadata": {},
   "source": [
    "标识符用于命名程序中标识像变量和函数这样的元素\n",
    "\n",
    "标识符是由字母，数字，下划线（__）构成的字符序列。\n",
    "\n",
    "标识符不能是关键字，必须以字母或下划线（__)开头，不能以数字开头，可以是任意长度\n",
    "\n"
   ]
  },
  {
   "cell_type": "markdown",
   "metadata": {},
   "source": [
    "变量用于引用在程序中可能会变化的值 （=）\n",
    "\n",
    "变量在表达式中使用之前必须被赋值"
   ]
  },
  {
   "cell_type": "markdown",
   "metadata": {},
   "source": [
    "-5 中的-号是一元的，4-5中的-号是二元的\n",
    "\n",
    "/ ：产生一个浮点数结果  //产生一个整数结果\n",
    "\n",
    "a**b ： a的b次幂 qiu余 % ：qiu\n"
   ]
  },
  {
   "cell_type": "code",
   "execution_count": 16,
   "metadata": {},
   "outputs": [
    {
     "name": "stdout",
     "output_type": "stream",
     "text": [
      "Enter an integer for seconds:500\n",
      "500 second is 8 minutes and 20 seconds\n"
     ]
    }
   ],
   "source": [
    "seconds = eval(input(\"Enter an integer for seconds:\"))\n",
    "minuts = seconds // 60\n",
    "remainingSecond = seconds % 60\n",
    "print(seconds,\"second is\",minuts,\"minutes and\",remainingSecond,\"seconds\")"
   ]
  },
  {
   "cell_type": "code",
   "execution_count": 17,
   "metadata": {},
   "outputs": [
    {
     "name": "stdout",
     "output_type": "stream",
     "text": [
      "请输入星期：2\n",
      "请输入天数：100\n",
      "4\n"
     ]
    }
   ],
   "source": [
    "tday = eval(input(\"请输入星期：\"))\n",
    "ttday = eval(input(\"请输入天数：\"))\n",
    "t = ttday % 7\n",
    "tt = (t + tday) % 7\n",
    "print(tt)\n"
   ]
  },
  {
   "cell_type": "markdown",
   "metadata": {},
   "source": [
    "+= -=:自加，自减 中间没有空格"
   ]
  },
  {
   "cell_type": "code",
   "execution_count": 19,
   "metadata": {},
   "outputs": [
    {
     "data": {
      "text/plain": [
       "1566889276.5907712"
      ]
     },
     "execution_count": 19,
     "metadata": {},
     "output_type": "execute_result"
    }
   ],
   "source": [
    "import time\n",
    "time.time()"
   ]
  },
  {
   "cell_type": "markdown",
   "metadata": {},
   "source": [
    "使用input函数来获取输入，使用eval函数将字符串转化为数值"
   ]
  },
  {
   "cell_type": "code",
   "execution_count": null,
   "metadata": {},
   "outputs": [],
   "source": []
  }
 ],
 "metadata": {
  "kernelspec": {
   "display_name": "Python 3",
   "language": "python",
   "name": "python3"
  },
  "language_info": {
   "codemirror_mode": {
    "name": "ipython",
    "version": 3
   },
   "file_extension": ".py",
   "mimetype": "text/x-python",
   "name": "python",
   "nbconvert_exporter": "python",
   "pygments_lexer": "ipython3",
   "version": "3.7.3"
  }
 },
 "nbformat": 4,
 "nbformat_minor": 2
}

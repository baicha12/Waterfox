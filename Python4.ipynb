{
 "cells": [
  {
   "cell_type": "markdown",
   "metadata": {},
   "source": [
    "#  选择 及 循环"
   ]
  },
  {
   "cell_type": "code",
   "execution_count": 3,
   "metadata": {},
   "outputs": [
    {
     "name": "stdout",
     "output_type": "stream",
     "text": [
      "1\n"
     ]
    }
   ],
   "source": [
    "i = int(True)\n",
    "print(i)"
   ]
  },
  {
   "cell_type": "code",
   "execution_count": 4,
   "metadata": {},
   "outputs": [
    {
     "name": "stdout",
     "output_type": "stream",
     "text": [
      "True\n"
     ]
    }
   ],
   "source": [
    "bi = bool(4)\n",
    "print(bi)"
   ]
  },
  {
   "cell_type": "code",
   "execution_count": 2,
   "metadata": {},
   "outputs": [
    {
     "name": "stdout",
     "output_type": "stream",
     "text": [
      "答案：8+8?16\n",
      "8 + 8 = 16 is True\n"
     ]
    }
   ],
   "source": [
    "import random\n",
    "number1 = random.randint(0,9)\n",
    "number2 = random.randint(0,9)\n",
    "answer = eval(input(\"答案：\"+ str(number1)+ \"+\"+ str(number2)+ \"?\"))\n",
    "print(number1, \"+\",number2, \"=\", answer,\n",
    "     \"is\", number1 + number2 == answer)"
   ]
  },
  {
   "cell_type": "code",
   "execution_count": 2,
   "metadata": {},
   "outputs": [
    {
     "name": "stdout",
     "output_type": "stream",
     "text": [
      "请输入数字：55\n",
      "Hifive\n"
     ]
    }
   ],
   "source": [
    "number = eval(input(\"请输入数字：\"))\n",
    "if number % 5 == 0:\n",
    "    print(\"Hifive\")\n",
    "    \n",
    "if number % 2 == 0:\n",
    "    print(\"Hieven\")"
   ]
  },
  {
   "cell_type": "code",
   "execution_count": 5,
   "metadata": {},
   "outputs": [
    {
     "name": "stdout",
     "output_type": "stream",
     "text": [
      "what is1-4?3\n",
      "no\n"
     ]
    }
   ],
   "source": [
    "import random\n",
    "number1 = random.randint(0,9)\n",
    "number2 = random.randint(0,9)\n",
    "if number1 > number2:\n",
    "    number1,number2 = number2,number1\n",
    "answer = eval(input(\"what is\"+ str(number1)+ \"-\"+ str(number2)+ \"?\"))\n",
    "if number1 - number2 == answer:\n",
    "    print(\"you are correct\")\n",
    "else:\n",
    "    print(\"no\")"
   ]
  },
  {
   "cell_type": "code",
   "execution_count": 8,
   "metadata": {},
   "outputs": [
    {
     "name": "stdout",
     "output_type": "stream",
     "text": [
      "What is 67 + 8? 655\n",
      "67 + 8 = 655 is False\n"
     ]
    }
   ],
   "source": [
    "#计算100以下的整数相加\n",
    "import random \n",
    "\n",
    "# Generate random numbers\n",
    "number1 = random.randint(0, 99)\n",
    "number2 = random.randint(0, 99)\n",
    "\n",
    "# Prompt the user to enter an answer\n",
    "answer = eval(input(\"What is \" + str(number1) + \" + \" \n",
    "    + str(number2) + \"? \"))\n",
    "    \n",
    "# Display result    \n",
    "print(number1, \"+\", number2, \"=\", answer, \"is\", (number1 + number2 == answer))\n"
   ]
  },
  {
   "cell_type": "code",
   "execution_count": 11,
   "metadata": {},
   "outputs": [
    {
     "name": "stdout",
     "output_type": "stream",
     "text": [
      "Enter three integers: 2,1,3\n",
      "The sorted numbers are 1 2 3\n"
     ]
    }
   ],
   "source": [
    "#输入三个整数升序排列\n",
    "number1, number2, number3 = eval(input(\"Enter three integers: \"))\n",
    "\n",
    "if number1 > number2:\n",
    "    number1, number2 = number2, number1\n",
    "\n",
    "if number2 > number3:\n",
    "    number2, number3 = number3, number2\n",
    "\n",
    "if number1 > number2:\n",
    "    number1, number2 = number2, number1\n",
    "\n",
    "print(\"The sorted numbers are\", number1, number2, number3)\n"
   ]
  },
  {
   "cell_type": "code",
   "execution_count": 13,
   "metadata": {},
   "outputs": [
    {
     "name": "stdout",
     "output_type": "stream",
     "text": [
      "shu0\n",
      "shu1\n",
      "shu2\n",
      "shu3\n",
      "shu4\n",
      "shu5\n",
      "shu6\n",
      "shu7\n",
      "shu8\n",
      "shu9\n"
     ]
    }
   ],
   "source": [
    "count = 0\n",
    "while count < 10:\n",
    "    print(\"shu\"+ str(count))\n",
    "    count = count + 1"
   ]
  },
  {
   "cell_type": "code",
   "execution_count": 15,
   "metadata": {},
   "outputs": [
    {
     "ename": "SyntaxError",
     "evalue": "invalid syntax (<ipython-input-15-6b60ab7c8503>, line 1)",
     "output_type": "error",
     "traceback": [
      "\u001b[1;36m  File \u001b[1;32m\"<ipython-input-15-6b60ab7c8503>\"\u001b[1;36m, line \u001b[1;32m1\u001b[0m\n\u001b[1;33m    python SentinelValue.py < C:\\\\Users\\\\lenovo\\\\Desktop\\\\1.txt\u001b[0m\n\u001b[1;37m                       ^\u001b[0m\n\u001b[1;31mSyntaxError\u001b[0m\u001b[1;31m:\u001b[0m invalid syntax\n"
     ]
    }
   ],
   "source": [
    "python SentinelValue.py < C:\\\\Users\\\\lenovo\\\\Desktop\\\\1.txt\n",
    "# 读入文件数字\n"
   ]
  },
  {
   "cell_type": "code",
   "execution_count": 16,
   "metadata": {},
   "outputs": [
    {
     "name": "stdout",
     "output_type": "stream",
     "text": [
      "Miles           Kilometers\n",
      "--------------------------------\n",
      "1               1.609     \n",
      "2               3.218     \n",
      "3               4.827     \n",
      "4               6.436     \n",
      "5               8.045     \n",
      "6               9.654     \n",
      "7               11.263    \n",
      "8               12.872    \n",
      "9               14.481    \n",
      "10              16.090    \n"
     ]
    }
   ],
   "source": [
    "print(format(\"Miles\", \"<15s\"), format(\"Kilometers\", \">10s\"))\n",
    "#做表格，英里转换为公里\n",
    "print(\"--------------------------------\")\n",
    "\n",
    "miles = 1\n",
    "while miles <= 10:\n",
    "    print(format(miles, \"<15d\"), format(miles * 1.609, \"<10.3f\"))\n",
    "    miles += 1\n"
   ]
  },
  {
   "cell_type": "code",
   "execution_count": null,
   "metadata": {},
   "outputs": [],
   "source": []
  }
 ],
 "metadata": {
  "kernelspec": {
   "display_name": "Python 3",
   "language": "python",
   "name": "python3"
  },
  "language_info": {
   "codemirror_mode": {
    "name": "ipython",
    "version": 3
   },
   "file_extension": ".py",
   "mimetype": "text/x-python",
   "name": "python",
   "nbconvert_exporter": "python",
   "pygments_lexer": "ipython3",
   "version": "3.7.3"
  }
 },
 "nbformat": 4,
 "nbformat_minor": 2
}
